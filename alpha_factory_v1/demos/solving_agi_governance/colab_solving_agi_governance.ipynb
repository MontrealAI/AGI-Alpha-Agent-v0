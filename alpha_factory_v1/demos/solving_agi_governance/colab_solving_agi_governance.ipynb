{
 "cells": [
  {
   "cell_type": "markdown",
   "metadata": {},
   "source": [
    "# \ud83d\udd4a\ufe0f Governance Simulation \u00b7 Colab Notebook\n",
    "*Alpha-Factory\u00a0v1 \ud83d\dc41*"
   ]
  },
  {
   "cell_type": "markdown",
   "metadata": {},
   "source": [
    "### Why this notebook?\n",
    "\n",
    "Run the minimal governance Monte-Carlo simulator and visualize how cooperation emerges. Works fully offline."
   ]
  },
  {
   "cell_type": "markdown",
   "metadata": {},
   "source": [
    "##\u00a00 \u00b7 Runtime check"
   ]
  },
  {
   "cell_type": "code",
   "execution_count": null,
   "metadata": {},
   "outputs": [],
   "source": [
    "!nvidia-smi -L || echo '\ud83d\udd39 GPU not detected \u2014 running on CPU'"
   ]
  },
  {
   "cell_type": "markdown",
   "metadata": {},
   "source": [
    "##\u00a01 \u00b7 Install demo package\n",
    "*(\u2248\u00a010\u202fs; wheels cached by Colab)*"
   ]
  },
  {
   "cell_type": "code",
   "execution_count": null,
   "metadata": {},
   "outputs": [],
   "source": [
    "%%bash\n",
    "set -e\n",
    "REPO=AGI-Alpha-Agent-v0\n",
    "if [ ! -d \"$REPO/.git\" ]; then\n",
    "  git clone --depth 1 https://github.com/MontrealAI/AGI-Alpha-Agent-v0.git $REPO\n",
    "fi\n",
    "cd $REPO\n",
    "pip install -q -e .\n"
   ]
  },
  {
   "cell_type": "markdown",
   "metadata": {},
   "source": [
    "##\u00a02 \u00b7 Quick simulation"
   ]
  },
  {
   "cell_type": "code",
   "execution_count": null,
   "metadata": {},
   "outputs": [],
   "source": [
    "from alpha_factory_v1.demos.solving_agi_governance import run_sim\n",
    "coop = run_sim(agents=500, rounds=3000, delta=0.8, stake=2.5, seed=42)\n",
    "print(f'mean cooperation \u2248 {coop:.3f}')"
   ]
  },
  {
   "cell_type": "markdown",
   "metadata": {},
   "source": [
    "##\u00a03 \u00b7 Explore \u03b4 sensitivity"
   ]
  },
  {
   "cell_type": "code",
   "execution_count": null,
   "metadata": {},
   "outputs": [],
   "source": [
    "import numpy as np, matplotlib.pyplot as plt\n",
    "from alpha_factory_v1.demos.solving_agi_governance import run_sim\n",
    "\n",
    "deltas = np.linspace(0.6, 0.95, 8)\n",
    "coops = [run_sim(agents=200, rounds=2000, delta=d, stake=2.5, seed=0) for d in deltas]\n",
    "plt.plot(deltas, coops, marker='o')\n",
    "plt.xlabel('Discount factor \u03b4')\n",
    "plt.ylabel('Mean cooperation')\n",
    "plt.grid(True)\n",
    "plt.show()"
   ]
  },
  {
   "cell_type": "markdown",
   "metadata": {},
   "source": [
    "---\n",
    "\u00a9\u00a02025 **MONTREAL.AI** \u2022 Apache-2.0 License"
   ]
  }
 ],
 "metadata": {
  "colab": {
   "provenance": []
  }
 },
 "nbformat": 4,
 "nbformat_minor": 5
}
