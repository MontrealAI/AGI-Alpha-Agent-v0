{
 "cells": [
  {
   "cell_type": "markdown",
   "metadata": {},
   "source": [
    "# OMNI-Factory Smart City Demo \ud83c\udf06",
    "",
    "Run the autonomous smart-city simulation right in Colab."
   ]
  },
  {
   "cell_type": "markdown",
   "metadata": {},
   "source": [
    "## 1 \u00b7 Clone repository & install dependencies"
   ]
  },
  {
   "cell_type": "code",
   "metadata": {},
   "execution_count": null,
   "outputs": [],
   "source": [
    "%%bash --no-stderr",
    "if [[ ! -d AGI-Alpha-Agent-v0 ]]; then",
    "  git clone --depth 1 https://github.com/MontrealAI/AGI-Alpha-Agent-v0.git -q",
    "fi",
    "cd AGI-Alpha-Agent-v0",
    "pip -q install -r alpha_factory_v1/requirements-colab.txt"
   ]
  },
  {
   "cell_type": "markdown",
   "metadata": {},
   "source": [
    "## 1b \u00b7 Verify environment"
   ]
  },
  {
   "cell_type": "code",
   "metadata": {},
   "execution_count": null,
   "outputs": [],
   "source": [
    "!python AGI-Alpha-Agent-v0/check_env.py"
   ]
  },
  {
   "cell_type": "markdown",
   "metadata": {},
   "source": [
    "## 2 \u00b7 Optional API keys"
   ]
  },
  {
   "cell_type": "code",
   "metadata": {},
   "execution_count": null,
   "outputs": [],
   "source": [
    "import os",
    "os.environ['OPENAI_API_KEY'] = ''",
    "os.environ['GOOGLE_ADK_KEY'] = ''"
   ]
  },
  {
   "cell_type": "markdown",
   "metadata": {},
   "source": [
    "## 3 \u00b7 Launch demo & dashboard"
   ]
  },
  {
   "cell_type": "code",
   "metadata": {
    "id": "03-launch"
   },
   "execution_count": null,
   "outputs": [],
   "source": [
    "%%bash --bg",
    "cd AGI-Alpha-Agent-v0/alpha_factory_v1/demos/omni_factory_demo",
    "python omni_factory_demo.py --metrics-port 9137 &> omni_demo.log &",
    "python omni_metrics_exporter.py --port 9137 &> exporter.log &",
    "python omni_dashboard.py --host 0.0.0.0 --port 8050 --no-browser"
   ]
  },
  {
   "cell_type": "markdown",
   "metadata": {},
   "source": [
    "## 4 \u00b7 Expose dashboard"
   ]
  },
  {
   "cell_type": "code",
   "metadata": {},
   "execution_count": null,
   "outputs": [],
   "source": [
    "from pyngrok import ngrok, conf",
    "conf.get_default().region = 'us'",
    "url = ngrok.connect(8050, 'http')",
    "print('Dashboard \u2192', url.public_url)"
   ]
  },
  {
   "cell_type": "markdown",
   "metadata": {},
   "source": [
    "## 5 \u00b7 Inspect ledger\n",
    "View recent ledger entries and token minting activity."
   ]
  },
  {
   "cell_type": "code",
   "metadata": {},
   "execution_count": null,
   "outputs": [],
   "source": [
    "%%bash\n",
    "cd AGI-Alpha-Agent-v0/alpha_factory_v1/demos/omni_factory_demo\n",
    "python omni_ledger_cli.py list --tail 10\n"
   ]
  },
  {
   "cell_type": "markdown",
   "metadata": {},
   "source": [
    "\u26a0\ufe0f Run time may vary; please be patient while the dashboard starts."
   ]
  },
  {
   "cell_type": "markdown",
   "metadata": {},
   "source": [
    "## 6 \u00b7 Run unit tests"
   ]
  },
  {
   "cell_type": "code",
   "metadata": {},
   "execution_count": null,
   "outputs": [],
   "source": [
    "!pytest -q"
   ]
  }
 ],
 "metadata": {
  "kernelspec": {
   "display_name": "Python 3",
   "language": "python",
   "name": "python3"
  },
  "language_info": {
   "name": "python"
  }
 },
 "nbformat": 4,
 "nbformat_minor": 5
}
