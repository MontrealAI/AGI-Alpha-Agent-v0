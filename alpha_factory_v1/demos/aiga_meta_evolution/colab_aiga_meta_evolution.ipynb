{
 "cells": [
  {
   "cell_type": "markdown",
   "id": "6f24c36c",
   "metadata": {},
   "source": [
    "# 🧬 AI‑GA Meta‑Evolution Demo · Colab Notebook\n",
    "Run Clune’s Three‑Pillar curriculum in your browser—no local install."
   ]
  },
  {
   "cell_type": "code",
   "execution_count": null,
   "id": "edfb4cb6",
   "metadata": {},
   "outputs": [],
   "source": [
    "\n",
    "# ↳ Setup: clone Alpha‑Factory and install minimal deps (≈2‑3 min)\n",
    "!git clone --depth 1 https://github.com/MontrealAI/AGI-Alpha-Agent-v0.git -q\n",
    "%cd AGI-Alpha-Agent-v0/alpha_factory_v1/demos/aiga_meta_evolution\n",
    "!pip -q install gymnasium[classic_control] gradio openai_agents torch --extra-index-url https://download.pytorch.org/whl/cpu\n"
   ]
  },
  {
   "cell_type": "code",
   "execution_count": null,
   "id": "02e2c6cc",
   "metadata": {},
   "outputs": [],
   "source": [
    "\n",
    "# ↳ (Optional) Add your OpenAI API key for LLM commentary\n",
    "import os\n",
    "os.environ['OPENAI_API_KEY'] = \"\"  # <-- paste your key or leave blank for offline Mixtral\n"
   ]
  },
  {
   "cell_type": "code",
   "execution_count": null,
   "id": "6f362f8b",
   "metadata": {},
   "outputs": [],
   "source": [
    "\n",
    "# ↳ Launch the live Gradio dashboard (public link will appear)\n",
    "!python agent_aiga_entrypoint.py\n"
   ]
  },
  {
   "cell_type": "markdown",
   "id": "28caff83",
   "metadata": {},
   "source": [
    "\n",
    "### What next?\n",
    "* Click the Gradio **public URL** to open the dashboard.\n",
    "* Press **Evolve 5 Generations** repeatedly and watch fitness climb.\n",
    "* Edit `meta_evolver.py` or `curriculum_env.py` in this folder to tinker:\n",
    "  - Increase `pop_size` for bigger experiments\n",
    "  - Raise mutation rates for more exploration\n",
    "  - Add new curriculum stages\n"
   ]
  }
 ],
 "metadata": {},
 "nbformat": 4,
 "nbformat_minor": 5
}
