# create_notebook.py – run once
import json, nbformat as nbf, pathlib, textwrap, inspect, alpha_asi_world_model_demo as demo

cells = []
cells.append(nbf.v4.new_markdown_cell("# α-ASI World-Model Demo\nRun the next cell to start the server ⬇️"))
code1 = textwrap.dedent("""
    import threading, alpha_asi_world_model_demo as demo
    threading.Thread(target=lambda: demo._cli.__wrapped__(demo)  # launch FastAPI in-proc
                     , args=('--demo',), daemon=True).start()
    print("UI → http://127.0.0.1:7860")
""")
cells.append(nbf.v4.new_code_cell(code1))

cells.append(nbf.v4.new_markdown_cell("### Live telemetry"))
code2 = textwrap.dedent("""
    import asyncio, websockets, json, matplotlib.pyplot as plt
    async def stream():
        xs, rs = [], []
        async with websockets.connect("ws://127.0.0.1:7860/ws") as ws:
            for _ in range(200):
                msg = json.loads(await ws.recv())
                xs.append(msg["t"]); rs.append(msg["r"])
        plt.plot(xs, rs); plt.xlabel("step"); plt.ylabel("reward"); plt.show()
    await asyncio.run(stream())
""")
cells.append(nbf.v4.new_code_cell(code2))

cells.append(nbf.v4.new_markdown_cell("Send a `new_env` command:"))
cells.append(nbf.v4.new_code_cell("import requests, json; requests.post('http://127.0.0.1:7860/command', json={'cmd':'new_env'}).json()"))

nb = nbf.v4.new_notebook()
nb['cells'] = cells
pathlib.Path("alpha_asi_world_model_demo.ipynb").write_text(nbf.writes(nb))
print("Notebook written → alpha_asi_world_model_demo.ipynb")
