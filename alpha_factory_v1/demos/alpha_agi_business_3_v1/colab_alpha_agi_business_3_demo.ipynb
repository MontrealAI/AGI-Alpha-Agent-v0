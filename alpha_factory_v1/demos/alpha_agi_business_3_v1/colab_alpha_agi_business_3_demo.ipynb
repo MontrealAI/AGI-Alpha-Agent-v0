{
 "cells": [
  {
   "cell_type": "markdown",
   "id": "b7aeec46",
   "metadata": {},
   "source": [
    "<!--\n",
    "SPDX-License-Identifier: Apache-2.0\n",
    "-->"
   ]
  },
  {
   "cell_type": "markdown",
   "id": "a451fe2f",
   "metadata": {},
   "source": [
    "This notebook is a conceptual research prototype. References to \u2018AGI\u2019 or \u2018superintelligence\u2019 describe aspirational goals and do not indicate the presence of real general intelligence. Use at your own risk."
   ]
  },
  {
   "cell_type": "markdown",
   "id": "c7c90325",
   "metadata": {},
   "source": [
    "# \u03a9-Lattice Business Demo \u2022 Colab Notebook"
   ]
  },
  {
   "cell_type": "markdown",
   "id": "3c3224e0",
   "metadata": {},
   "source": [
    "Run the minimal **\u03a9-Lattice alpha pipeline**. Works offline or with your OpenAI key for enhanced reasoning."
   ]
  },
  {
   "cell_type": "markdown",
   "id": "b7710fc1",
   "metadata": {},
   "source": [
    "## 0 \u00b7 Runtime check"
   ]
  },
  {
   "cell_type": "code",
   "execution_count": null,
   "id": "5a641321",
   "metadata": {},
   "outputs": [],
   "source": [
    "!python --version && (nvidia-smi -L || echo 'GPU not detected - running on CPU')"
   ]
  },
  {
   "cell_type": "markdown",
   "id": "259371f5",
   "metadata": {},
   "source": [
    "## 1 \u00b7 Clone repo & install dependencies"
   ]
  },
  {
   "cell_type": "code",
   "execution_count": null,
   "id": "185c6c2f",
   "metadata": {},
   "outputs": [],
   "source": [
    "%%bash\n",
    "if [ ! -d AGI-Alpha-Agent-v0 ]; then\n",
    "  git clone --depth 1 https://github.com/MontrealAI/AGI-Alpha-Agent-v0.git\n",
    "fi\n",
    "cd AGI-Alpha-Agent-v0\n",
    "\n",
    "pip -q install openai-agents==0.0.17 fastapi uvicorn"
   ]
  },
  {
   "cell_type": "markdown",
   "id": "e4f0a141",
   "metadata": {},
   "source": [
    "## 2 \u00b7 (Optional) Configure your OpenAI API key"
   ]
  },
  {
   "cell_type": "code",
   "execution_count": null,
   "id": "bf684f17",
   "metadata": {},
   "outputs": [],
   "source": [
    "import os, getpass\n",
    "os.environ['OPENAI_API_KEY'] = getpass.getpass('Enter OpenAI API key (leave blank for offline): ')"
   ]
  },
  {
   "cell_type": "markdown",
   "id": "f24638c2",
   "metadata": {},
   "source": [
    "## 3 \u00b7 Launch demo"
   ]
  },
  {
   "cell_type": "code",
   "execution_count": null,
   "id": "9dd70292",
   "metadata": {},
   "outputs": [],
   "source": [
    "%cd AGI-Alpha-Agent-v0\n",
    "python -m alpha_factory_v1.demos.alpha_agi_business_3_v1 --cycles 3"
   ]
  },
  {
   "cell_type": "markdown",
   "id": "297fe80c",
   "metadata": {},
   "source": [
    "\u2705 Demo complete"
   ]
  }
 ],
 "metadata": {
  "kernelspec": {
   "display_name": "Python 3",
   "language": "python",
   "name": "python3"
  },
  "language_info": {
   "name": "python",
   "version": "3.x"
  }
 },
 "nbformat": 4,
 "nbformat_minor": 5
}
