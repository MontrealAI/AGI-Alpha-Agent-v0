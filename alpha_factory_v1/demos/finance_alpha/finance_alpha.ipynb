{
 "cells": [
  {
   "cell_type": "markdown",
   "id": "fb3dbd3a",
   "metadata": {},
   "source": [
    "# Alpha-Factory Finance Demo \ud83d\udcc8\n",
    "\n",
    "This notebook launches a **single-node Alpha-Factory** container, activates\n",
    "the *BTC/GLD momentum* strategy, then queries the FinanceAgent for **positions**\n",
    "and **P&L**.  It runs **online or offline** \u2013 if `OPENAI_API_KEY` is missing the\n",
    "container automatically uses a local \u03a6-2 model.\n",
    "\n",
    "\u26a0\ufe0f  **Disclaimer**: This demo is for research and educational purposes only.\n",
    "It uses a simulated exchange by default and should not be used with real funds.\n",
    "Nothing here constitutes financial advice.\n"
   ]
  },
  {
   "cell_type": "markdown",
   "id": "d96a2ed0",
   "metadata": {},
   "source": [
    "##\u00a01\u00a0\u00b7\u00a0Parameters"
   ]
  },
  {
   "cell_type": "code",
   "execution_count": null,
   "id": "244c4106",
   "metadata": {},
   "outputs": [],
   "source": [
    "IMG = \"ghcr.io/montrealai/alphafactory_pro:cpu-slim-latest\"\n",
    "PORT_API = 8000\n",
    "CONTAINER = \"af_nb_demo\"\n",
    "STRATEGY = \"btc_gld\"  # change to your own\n"
   ]
  },
  {
   "cell_type": "markdown",
   "id": "7fc59fef",
   "metadata": {},
   "source": [
    "##\u00a02\u00a0\u00b7\u00a0Start container"
   ]
  },
  {
   "cell_type": "code",
   "execution_count": null,
   "id": "cc945f66",
   "metadata": {},
   "outputs": [],
   "source": [
    "import subprocess, time, requests, sys, os, json\n",
    "print(\"\u23f3 Pulling image (skip if cached)\u2026\")\n",
    "subprocess.run([\"docker\", \"pull\", IMG], check=True)\n",
    "\n",
    "import socket\n",
    "def port_free(port:int)->bool:\n",
    "    with socket.socket(socket.AF_INET, socket.SOCK_STREAM) as s:\n",
    "        return s.connect_ex(('localhost', port)) != 0\n",
    "if not port_free(PORT_API):\n",
    "    raise RuntimeError(f'Port {PORT_API} is already in use')\n",
    "\n",
    "\n",
    "print(\"\ud83d\ude80  Starting Alpha\u2011Factory \u2026\")\n",
    "subprocess.Popen([\n",
    "    \"docker\", \"run\", \"-d\", \"--rm\", \"--name\", CONTAINER,\n",
    "    \"-p\", f\"{PORT_API}:8000\",\n",
    "    \"-e\", f\"FINANCE_STRATEGY={STRATEGY}\",\n",
    "    IMG\n",
    "])\n",
    "\n",
    "# Wait for /health\n",
    "for _ in range(60):\n",
    "    try:\n",
    "        requests.get(f\"http://localhost:{PORT_API}/health\", timeout=1)\n",
    "        break\n",
    "    except Exception:\n",
    "        time.sleep(1)\n",
    "else:\n",
    "    raise RuntimeError(\"API did not start in 60\u00a0s\")\n",
    "\n",
    "print(f\"\u2705  API ready at http://localhost:{PORT_API}\")\n"
   ]
  },
  {
   "cell_type": "markdown",
   "id": "03a822ab",
   "metadata": {},
   "source": [
    "##\u00a03\u00a0\u00b7\u00a0Fetch positions &\u00a0P&L"
   ]
  },
  {
   "cell_type": "code",
   "execution_count": null,
   "id": "ca19600f",
   "metadata": {},
   "outputs": [],
   "source": [
    "import pandas as pd, requests, IPython.display as disp\n",
    "base = f\"http://localhost:{PORT_API}/api/finance\"\n",
    "positions = requests.get(base + \"/positions\").json()\n",
    "pnl = requests.get(base + \"/pnl\").json()\n",
    "\n",
    "disp.display(pd.json_normalize(positions).style.set_caption(\"Current Positions\"))\n",
    "disp.display(pd.json_normalize(pnl).style.set_caption(\"P&L (USD)\"))\n"
   ]
  },
  {
   "cell_type": "markdown",
   "id": "41a7bd2c",
   "metadata": {},
   "source": [
    "##\u00a04\u00a0\u00b7\u00a0Explore the trace\u2011graph \u2728\n",
    "Open [http://localhost:8088](http://localhost:8088) in your browser to watch\n",
    "the planner emit decisions and tool\u2011calls in real time."
   ]
  },
  {
   "cell_type": "markdown",
   "id": "abf41abb",
   "metadata": {},
   "source": [
    "##\u00a05\u00a0\u00b7\u00a0Shutdown"
   ]
  },
  {
   "cell_type": "code",
   "execution_count": null,
   "id": "895feff1",
   "metadata": {},
   "outputs": [],
   "source": [
    "import subprocess, time\n",
    "subprocess.run([\"docker\", \"stop\", CONTAINER])\n",
    "print(\"\ud83d\uded1 Container stopped.\")\n"
   ]
  }
 ],
 "metadata": {
  "kernelspec": {
   "display_name": "Python 3",
   "language": "python",
   "name": "python3"
  }
 },
 "nbformat": 4,
 "nbformat_minor": 5
}
