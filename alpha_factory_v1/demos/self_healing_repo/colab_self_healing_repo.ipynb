{
 "cells": [
  {
   "cell_type": "markdown",
   "metadata": {},
   "source": "This notebook is a conceptual research prototype. References to \u2018AGI\u2019 or \u2018superintelligence\u2019 describe aspirational goals and do not indicate the presence of real general intelligence. Use at your own risk."
  },
  {
   "cell_type": "markdown",
   "id": "0cf8b073",
   "metadata": {},
   "source": [
    "# \ud83d\udee0\ufe0f Self\u2011Healing\u00a0Repo \u00b7 Colab Notebook\n",
    "See an agent detect failing tests, generate a patch, and heal the codebase\u2014right in Colab."
   ]
  },
  {
   "cell_type": "markdown",
   "id": "e7d2e163",
   "metadata": {},
   "source": [
    "## 1\u00a0\u00b7\u00a0Clone Alpha\u2011Factory & install lean deps (\u22482\u00a0min)"
   ]
  },
  {
   "cell_type": "code",
   "execution_count": null,
   "id": "9d65bd78",
   "metadata": {},
   "outputs": [],
   "source": [
    "\n",
    "!git clone --depth 1 https://github.com/MontrealAI/AGI-Alpha-Agent-v0.git -q\n",
    "%cd AGI-Alpha-Agent-v0/alpha_factory_v1/demos/self_healing_repo\n",
    "!apt-get update -y > /dev/null && apt-get install -y patch > /dev/null\n",
    "!pip -q install pytest gradio openai_agents tensorflow==2.15 --extra-index-url https://download.pytorch.org/whl/cpu\n"
   ]
  },
  {
   "cell_type": "markdown",
   "metadata": {},
   "source": "GNU patch is required to apply diffs. The install step above ensures it is available."
  },
  {
   "cell_type": "markdown",
   "id": "ec99722d",
   "metadata": {},
   "source": [
    "## 2\u00a0\u00b7\u00a0(Optional) Add your OpenAI API key for GPT\u20114o reasoning"
   ]
  },
  {
   "cell_type": "code",
   "execution_count": null,
   "id": "8e73217d",
   "metadata": {},
   "outputs": [],
   "source": [
    "import os\n",
    "os.environ['OPENAI_API_KEY'] = ''  # paste API key or leave blank for offline\n",
    "os.environ['USE_LOCAL_LLM'] = 'true'  # set false to use OpenAI if key present\n",
    "os.environ['OLLAMA_BASE_URL'] = 'http://localhost:11434/v1'\n",
    "os.environ['MODEL_NAME'] = 'gpt-4o-mini'\n",
    "os.environ['CLONE_DIR'] = '/tmp/demo_repo'  # optional clone location\n"
   ]
  },
  {
   "cell_type": "code",
   "execution_count": null,
   "id": "a1b2c3d4",
   "metadata": {},
   "outputs": [],
   "source": [
    "os.environ['GRADIO_SHARE'] = '1'\n"
   ]
  },
  {
   "cell_type": "markdown",
   "id": "4f21232b",
   "metadata": {},
   "source": [
    "## 3\u00a0\u00b7\u00a0Launch dashboard (public link will appear below)"
   ]
  },
  {
   "cell_type": "code",
   "execution_count": null,
   "id": "e13b7473",
   "metadata": {},
   "outputs": [],
   "source": [
    "!python agent_selfheal_entrypoint.py"
   ]
  },
  {
   "cell_type": "markdown",
   "id": "4f4566d7",
   "metadata": {},
   "source": [
    "When the cell prints the Gradio public URL, click it to open the interactive UI.\n",
    "\n",
    "*Try pressing **Heal Repository** to watch the agent patch the bug and rerun tests.*"
   ]
  }
 ],
 "metadata": {},
 "nbformat": 4,
 "nbformat_minor": 5
}
